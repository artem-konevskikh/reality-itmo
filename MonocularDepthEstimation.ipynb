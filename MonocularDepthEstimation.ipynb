{
  "nbformat": 4,
  "nbformat_minor": 0,
  "metadata": {
    "colab": {
      "name": "Copy of ai-artathon-depth.ipynb",
      "provenance": [],
      "collapsed_sections": []
    },
    "kernelspec": {
      "name": "python3",
      "display_name": "Python 3"
    },
    "language_info": {
      "name": "python"
    },
    "accelerator": "GPU"
  },
  "cells": [
    {
      "cell_type": "markdown",
      "metadata": {
        "id": "6-H60NTcbJNw"
      },
      "source": [
        "# Monocular Depth Estimation\n",
        "\n",
        "Based on https://github.com/compphoto/BoostingMonocularDepth\n",
        "\n",
        "Created by [Artem Konevskikh](https://github.com/artem-konevskikh)"
      ]
    },
    {
      "cell_type": "code",
      "metadata": {
        "id": "-SaAhFxPbCyK",
        "cellView": "form"
      },
      "source": [
        "#@title Install\n",
        "#@markdown This cell will download all the needed files\n",
        "# Clone git repo\n",
        "!git clone https://github.com/compphoto/BoostingMonocularDepth.git\n",
        "\n",
        "# !wget https://sfu.ca/~yagiz/CVPR21/latest_net_G.pth\n",
        "!gdown https://drive.google.com/u/0/uc?id=1cU2y-kMbt0Sf00Ns4CN2oO9qPJ8BensP&export=download\n",
        "\n",
        "# Downloading merge model weights\n",
        "!mkdir -p /content/BoostingMonocularDepth/pix2pix/checkpoints/mergemodel/\n",
        "!mv latest_net_G.pth /content/BoostingMonocularDepth/pix2pix/checkpoints/mergemodel/\n",
        "\n",
        "# Downloading Midas weights\n",
        "!gdown https://drive.google.com/uc?id=1nqW_Hwj86kslfsXR7EnXpEWdO2csz1cC\n",
        "!mv model.pt /content/BoostingMonocularDepth/midas/\n",
        "\n",
        "# # Downloading LeRes weights\n",
        "!wget https://cloudstor.aarnet.edu.au/plus/s/lTIJF4vrvHCAI31/download\n",
        "!mv download /content/BoostingMonocularDepth/res101.pth\n",
        "\n",
        "!git clone https://github.com/CapObvios/Depth-Map-Visualizer.git\n",
        "\n",
        "!mkdir -p /content/inputs\n",
        "!mkdir -p /content/outputs\n",
        "!mkdir -p /content/3d-models"
      ],
      "execution_count": null,
      "outputs": []
    },
    {
      "cell_type": "code",
      "metadata": {
        "id": "jz0YOgd5cO43",
        "cellView": "form"
      },
      "source": [
        "%cd BoostingMonocularDepth\n",
        "import glob\n",
        "#@title Run\n",
        "#@markdown 1. Put your images to `inputs` folder\n",
        "#@markdown 2. Select the network model to reconstruct depth map. `LeRes` gives beter resolution, while `MiDas` works faster\n",
        "depth_net = \"LeRes\" #@param [\"LeRes\",\"MiDas\"]\n",
        "#@markdown 3. Check this if you want to generate 3d model from the obtained depth map. Note that you can achive much better results if you do it manually in 3d editing software\n",
        "make3d = True #@param {type:\"boolean\"}\n",
        "\n",
        "model = 2 if depth_net == \"LeRes\" else 0\n",
        "\n",
        "!python run.py --Final --data_dir /content/inputs --output_dir  /content/outputs/ --depthNet $model\n",
        "\n",
        "if make3d:\n",
        "  for f in glob.glob('/content/inputs/*.*'):\n",
        "    !echo $f\n",
        "    model_name = f.split('/')[-1].split('.')[0]\n",
        "    texture_name = f.split('/')[-1]\n",
        "    model_path = '/content/3d-models/'+ model_name + '/'\n",
        "    depth_map = '/content/outputs/'+model_name+'.png'\n",
        "    # mtl_path = model_path + 'model.mtl'\n",
        "    # obj_path = model_path + 'model.obj'\n",
        "    !mkdir -p $model_path\n",
        "    !cp $f $model_path\n",
        "    !cp $depth_map $model_path\n",
        "    %cd $model_path\n",
        "    !python /content/Depth-Map-Visualizer/DepthToObj.py --depthPath $depth_map --texturePath $texture_name \n",
        "    # --mtlPath $mtl_path --objPath $obj_path\n",
        "\n"
      ],
      "execution_count": null,
      "outputs": []
    },
    {
      "cell_type": "code",
      "metadata": {
        "id": "byq8dkG-n--H",
        "cellView": "form"
      },
      "source": [
        "#@title Export models\n",
        "#@markdown This will zip 3d models folder, so it will be easier to download the results\n",
        "%cd /content/\n",
        "!zip -r 3d-models.zip 3d-models/"
      ],
      "execution_count": null,
      "outputs": []
    }
  ]
}